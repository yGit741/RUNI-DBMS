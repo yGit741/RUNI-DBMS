{
 "cells": [
  {
   "cell_type": "markdown",
   "id": "08b01233",
   "metadata": {},
   "source": [
    "# HW3 - Practical Databases"
   ]
  },
  {
   "cell_type": "markdown",
   "id": "35beac0a",
   "metadata": {},
   "source": [
    "Noa Ben-David (300950565)  \n",
    "Yonatan Greenshpan (204266191)\n"
   ]
  },
  {
   "cell_type": "code",
   "execution_count": null,
   "id": "c291fea0",
   "metadata": {},
   "outputs": [],
   "source": [
    "# import required libraries and dependencies\n",
    "import sqlite3\n",
    "import pandas as pd"
   ]
  },
  {
   "cell_type": "markdown",
   "id": "6c99cdd5",
   "metadata": {},
   "source": [
    "## Initializing the DB"
   ]
  },
  {
   "cell_type": "markdown",
   "id": "90faf028",
   "metadata": {},
   "source": [
    "Creating the Scheme according to the ERD"
   ]
  },
  {
   "cell_type": "code",
   "execution_count": null,
   "id": "9a966c53",
   "metadata": {},
   "outputs": [],
   "source": [
    "conn = sqlite3.connect('w3school_database') \n",
    "c = conn.cursor()"
   ]
  },
  {
   "cell_type": "code",
   "execution_count": null,
   "id": "1555b64c",
   "metadata": {},
   "outputs": [],
   "source": [
    "c.execute('''\n",
    "          CREATE TABLE IF NOT EXISTS categories\n",
    "          ([CategoryID] INTEGER PRIMARY KEY,\n",
    "           [CategoryName] TEXT,\n",
    "           [Description] TEXT)\n",
    "          ''');"
   ]
  },
  {
   "cell_type": "code",
   "execution_count": null,
   "id": "37d1264e",
   "metadata": {},
   "outputs": [],
   "source": [
    "c.execute('''\n",
    "          CREATE TABLE IF NOT EXISTS products\n",
    "          ([ProductID] INTEGER PRIMARY KEY,\n",
    "           [CategoryID] INTEGER KEY,\n",
    "           [SupplierID] INTEGER KEY,\n",
    "           [ProductName] TEXT,\n",
    "           [Unit] TEXT,\n",
    "           [Price] DOUBLE,\n",
    "           FOREIGN KEY(CategoryID) REFERENCES categories(CategoryID),\n",
    "           FOREIGN KEY(SupplierID) REFERENCES suppliers(SupplierID))\n",
    "          ''');"
   ]
  },
  {
   "cell_type": "code",
   "execution_count": null,
   "id": "a90e6a87",
   "metadata": {},
   "outputs": [],
   "source": []
  },
  {
   "cell_type": "code",
   "execution_count": null,
   "id": "a0b3e504",
   "metadata": {},
   "outputs": [],
   "source": []
  },
  {
   "cell_type": "code",
   "execution_count": null,
   "id": "aa749525",
   "metadata": {},
   "outputs": [],
   "source": []
  },
  {
   "cell_type": "code",
   "execution_count": null,
   "id": "44789326",
   "metadata": {},
   "outputs": [],
   "source": [
    "conn.commit()"
   ]
  },
  {
   "cell_type": "markdown",
   "id": "007da488",
   "metadata": {},
   "source": [
    "Fullfill the scheme with data"
   ]
  },
  {
   "cell_type": "code",
   "execution_count": null,
   "id": "5dcb81b8",
   "metadata": {},
   "outputs": [],
   "source": [
    "conn = sqlite3.connect('w3school_database') \n",
    "c = conn.cursor()"
   ]
  },
  {
   "cell_type": "code",
   "execution_count": null,
   "id": "ff25267e",
   "metadata": {},
   "outputs": [],
   "source": [
    "c.execute('''\n",
    "          INSERT INTO shippers (ShipperID, ShipperName, Phone)\n",
    "                VALUES\n",
    "                (1, 'Speedy Express', '(503) 555-9831'),\n",
    "                (2, 'United Package', '(503) 555-3199'),\n",
    "                (3, 'Federal Shipping', '(503) 555-9931')\n",
    "          ''');"
   ]
  },
  {
   "cell_type": "code",
   "execution_count": null,
   "id": "cba05a92",
   "metadata": {},
   "outputs": [],
   "source": []
  },
  {
   "cell_type": "code",
   "execution_count": null,
   "id": "368176c6",
   "metadata": {},
   "outputs": [],
   "source": []
  },
  {
   "cell_type": "code",
   "execution_count": null,
   "id": "4804a04e",
   "metadata": {},
   "outputs": [],
   "source": []
  },
  {
   "cell_type": "code",
   "execution_count": null,
   "id": "d4aac108",
   "metadata": {},
   "outputs": [],
   "source": [
    "conn.commit()"
   ]
  },
  {
   "cell_type": "code",
   "execution_count": null,
   "id": "e7b9273b",
   "metadata": {},
   "outputs": [],
   "source": [
    "conn = sqlite3.connect('w3school_database') \n",
    "c = conn.cursor()"
   ]
  },
  {
   "cell_type": "markdown",
   "id": "a22c4217",
   "metadata": {},
   "source": [
    "## Exploring the Data"
   ]
  },
  {
   "cell_type": "markdown",
   "id": "11ab1199",
   "metadata": {},
   "source": [
    "Let's have a look on the following queries"
   ]
  },
  {
   "cell_type": "code",
   "execution_count": null,
   "id": "b1b63a49",
   "metadata": {},
   "outputs": [],
   "source": [
    "conn = sqlite3.connect('w3school_database') \n",
    "c = conn.cursor()"
   ]
  },
  {
   "cell_type": "code",
   "execution_count": null,
   "id": "9f0dd0ff",
   "metadata": {},
   "outputs": [],
   "source": [
    "# YOUR QUERY\n",
    "c.execute('''\n",
    "SELECT ProductId, ProductName\n",
    "FROM products\n",
    "WHERE ProductName LIKE \"%Alice%\"\n",
    "\n",
    "\n",
    "\n",
    "\n",
    "          ''')\n",
    "\n",
    "df = pd.DataFrame(c.fetchall(), columns=['ProductID', 'ProductName'])\n",
    "df.head()"
   ]
  },
  {
   "cell_type": "code",
   "execution_count": null,
   "id": "13aa5b17",
   "metadata": {},
   "outputs": [],
   "source": [
    "conn.commit()"
   ]
  },
  {
   "cell_type": "markdown",
   "id": "79b626cd",
   "metadata": {},
   "source": [
    "**Some discussion**"
   ]
  },
  {
   "cell_type": "code",
   "execution_count": null,
   "id": "6be38098",
   "metadata": {},
   "outputs": [],
   "source": []
  }
 ],
 "metadata": {
  "kernelspec": {
   "display_name": "Python 3 (ipykernel)",
   "language": "python",
   "name": "python3"
  },
  "language_info": {
   "codemirror_mode": {
    "name": "ipython",
    "version": 3
   },
   "file_extension": ".py",
   "mimetype": "text/x-python",
   "name": "python",
   "nbconvert_exporter": "python",
   "pygments_lexer": "ipython3",
   "version": "3.10.9"
  }
 },
 "nbformat": 4,
 "nbformat_minor": 5
}
