{
 "cells": [
  {
   "cell_type": "code",
   "execution_count": 1,
   "id": "97e2f3db",
   "metadata": {},
   "outputs": [
    {
     "ename": "OperationalError",
     "evalue": "table Foods has no column named Calories",
     "output_type": "error",
     "traceback": [
      "\u001b[1;31m---------------------------------------------------------------------------\u001b[0m",
      "\u001b[1;31mOperationalError\u001b[0m                          Traceback (most recent call last)",
      "Cell \u001b[1;32mIn[1], line 20\u001b[0m\n\u001b[0;32m      5\u001b[0m c \u001b[38;5;241m=\u001b[39m conn\u001b[38;5;241m.\u001b[39mcursor()\n\u001b[0;32m      7\u001b[0m c\u001b[38;5;241m.\u001b[39mexecute(\u001b[38;5;124m'''\u001b[39m\n\u001b[0;32m      8\u001b[0m \u001b[38;5;124m    CREATE TABLE IF NOT EXISTS Foods (\u001b[39m\n\u001b[0;32m      9\u001b[0m \u001b[38;5;124m        CatalogNumber TEXT PRIMARY KEY,\u001b[39m\n\u001b[1;32m   (...)\u001b[0m\n\u001b[0;32m     16\u001b[0m \u001b[38;5;124m    )\u001b[39m\n\u001b[0;32m     17\u001b[0m \u001b[38;5;124m'''\u001b[39m)\n\u001b[1;32m---> 20\u001b[0m \u001b[43mc\u001b[49m\u001b[38;5;241;43m.\u001b[39;49m\u001b[43mexecute\u001b[49m\u001b[43m(\u001b[49m\u001b[38;5;124;43m'''\u001b[39;49m\n\u001b[0;32m     21\u001b[0m \u001b[38;5;124;43m    INSERT INTO Foods (CatalogNumber, Name, Calories, Vegan, Kosher)\u001b[39;49m\n\u001b[0;32m     22\u001b[0m \u001b[38;5;124;43m    VALUES\u001b[39;49m\n\u001b[0;32m     23\u001b[0m \u001b[38;5;124;43m        (\u001b[39;49m\u001b[38;5;124;43m'\u001b[39;49m\u001b[38;5;124;43mFO001\u001b[39;49m\u001b[38;5;124;43m'\u001b[39;49m\u001b[38;5;124;43m, \u001b[39;49m\u001b[38;5;124;43m'\u001b[39;49m\u001b[38;5;124;43mHamburger\u001b[39;49m\u001b[38;5;124;43m'\u001b[39;49m\u001b[38;5;124;43m, 1000, 0, 1),\u001b[39;49m\n\u001b[0;32m     24\u001b[0m \u001b[38;5;124;43m        (\u001b[39;49m\u001b[38;5;124;43m'\u001b[39;49m\u001b[38;5;124;43mFO002\u001b[39;49m\u001b[38;5;124;43m'\u001b[39;49m\u001b[38;5;124;43m, \u001b[39;49m\u001b[38;5;124;43m'\u001b[39;49m\u001b[38;5;124;43mPizza\u001b[39;49m\u001b[38;5;124;43m'\u001b[39;49m\u001b[38;5;124;43m, 600, 1, 0),\u001b[39;49m\n\u001b[0;32m     25\u001b[0m \u001b[38;5;124;43m        (\u001b[39;49m\u001b[38;5;124;43m'\u001b[39;49m\u001b[38;5;124;43mFO003\u001b[39;49m\u001b[38;5;124;43m'\u001b[39;49m\u001b[38;5;124;43m, \u001b[39;49m\u001b[38;5;124;43m'\u001b[39;49m\u001b[38;5;124;43mSalad\u001b[39;49m\u001b[38;5;124;43m'\u001b[39;49m\u001b[38;5;124;43m, 200, 1, 1)\u001b[39;49m\n\u001b[0;32m     26\u001b[0m \n\u001b[0;32m     27\u001b[0m \u001b[38;5;124;43m'''\u001b[39;49m\u001b[43m)\u001b[49m\n",
      "\u001b[1;31mOperationalError\u001b[0m: table Foods has no column named Calories"
     ]
    }
   ],
   "source": [
    "import sqlite3\n",
    "import pandas as pd\n",
    "\n",
    "conn = sqlite3.connect('test') \n",
    "c = conn.cursor()\n",
    "\n",
    "c.execute('''\n",
    "    CREATE TABLE IF NOT EXISTS Foods (\n",
    "        CatalogNumber TEXT PRIMARY KEY,\n",
    "        Name TEXT\n",
    "        Calories REAL,\n",
    "        Vegan INTEGER,\n",
    "        Kosher INTEGER,\n",
    "        FOREIGN KEY (CatalogNumber) REFERENCES Products(CatalogNumber)\n",
    "\n",
    "    )\n",
    "''')\n",
    "\n",
    "\n",
    "c.execute('''\n",
    "    INSERT INTO Foods (CatalogNumber, Name, Calories, Vegan, Kosher)\n",
    "    VALUES\n",
    "        ('FO001', 'Hamburger', 1000, 0, 1),\n",
    "        ('FO002', 'Pizza', 600, 1, 0),\n",
    "        ('FO003', 'Salad', 200, 1, 1)\n",
    "\n",
    "''')\n"
   ]
  },
  {
   "cell_type": "code",
   "execution_count": null,
   "id": "77054cf7",
   "metadata": {},
   "outputs": [],
   "source": []
  },
  {
   "cell_type": "code",
   "execution_count": null,
   "id": "08be7c65",
   "metadata": {},
   "outputs": [],
   "source": []
  },
  {
   "cell_type": "code",
   "execution_count": null,
   "id": "3b6837a6",
   "metadata": {},
   "outputs": [],
   "source": []
  },
  {
   "cell_type": "code",
   "execution_count": null,
   "id": "f0058ba6",
   "metadata": {},
   "outputs": [],
   "source": [
    "conn = sqlite3.connect('test') \n",
    "c = conn.cursor()"
   ]
  },
  {
   "cell_type": "code",
   "execution_count": null,
   "id": "699a0c29",
   "metadata": {},
   "outputs": [],
   "source": [
    "c.execute('''\n",
    "    CREATE TABLE IF NOT EXISTS Products (\n",
    "        CatalogNumber TEXT PRIMARY KEY,\n",
    "        Type TEXT,\n",
    "        Price REAL,\n",
    "        Weight REAL\n",
    "    )\n",
    "''')"
   ]
  },
  {
   "cell_type": "code",
   "execution_count": null,
   "id": "9234f12b",
   "metadata": {},
   "outputs": [],
   "source": [
    "\n",
    "\n",
    "\n",
    "(CatalogNumber, Name, Calories, Vegan, Kosher)\n"
   ]
  },
  {
   "cell_type": "code",
   "execution_count": null,
   "id": "2ee8022b",
   "metadata": {},
   "outputs": [],
   "source": []
  },
  {
   "cell_type": "code",
   "execution_count": null,
   "id": "76005669",
   "metadata": {},
   "outputs": [],
   "source": [
    "c.execute('''\n",
    "    INSERT INTO Products (CatalogNumber, Type, Price, Weight)\n",
    "    VALUES\n",
    "        ('FO001', 'Food', 10.99, 0.3),\n",
    "        ('FO002', 'Food', 8.99, 0.25),\n",
    "        ('FO003', 'Food', 7.49, 0.4),\n",
    "        ('FL001', 'Flower', 11.99, 0.32),\n",
    "        ('FL002', 'Flower', 5.99, 0.3),\n",
    "        ('FL003', 'Flower', 7.99, 0.27),\n",
    "        ('FL004', 'Flower', 12.99, 0.9),\n",
    "        ('FL005', 'Flower', 9.49, 0.33),\n",
    "        ('FL006', 'Flower', 25.00, 0.38),\n",
    "        ('FL007', 'Flower', 9.49, 0.33)\n",
    "''')\n"
   ]
  },
  {
   "cell_type": "code",
   "execution_count": null,
   "id": "2c552cd1",
   "metadata": {},
   "outputs": [],
   "source": []
  },
  {
   "cell_type": "code",
   "execution_count": null,
   "id": "a6bacd4a",
   "metadata": {},
   "outputs": [],
   "source": [
    "c.execute('''\n",
    "    INSERT INTO Flowers (CatalogNumber, Name, Color, LightNeed, WaterNeed)\n",
    "    VALUES\n",
    "        ('FL001', 'Roses', 'Red', 'Full Sun', 'Moderate'),\n",
    "        ('FL002', 'Tulips', 'Yellow', 'Partial Sun', 'Regular'),\n",
    "        ('FL003', 'Lilies', 'White', 'Partial Shade', 'Regular'),\n",
    "        ('FL004', 'Sunflowers', 'Yellow', 'Full Sun', 'Frequent'),\n",
    "        ('FL005', 'Daisies', 'White', 'Partial Shade', 'Regular'),\n",
    "        ('FL006', 'Orchids', 'Purple', 'Partial Sun', 'Regular'),\n",
    "        ('FL007', 'Carnations', 'Pink', 'Partial Shade', 'Moderate')\n",
    "''')"
   ]
  },
  {
   "cell_type": "code",
   "execution_count": null,
   "id": "78ca471e",
   "metadata": {},
   "outputs": [],
   "source": []
  },
  {
   "cell_type": "code",
   "execution_count": null,
   "id": "67a9e2cf",
   "metadata": {},
   "outputs": [],
   "source": []
  },
  {
   "cell_type": "code",
   "execution_count": null,
   "id": "833675c2",
   "metadata": {},
   "outputs": [],
   "source": [
    "c.execute('''\n",
    "\n",
    "DESC Products\n",
    "\n",
    "''')\n",
    "\n",
    "c.fetchall()"
   ]
  },
  {
   "cell_type": "code",
   "execution_count": null,
   "id": "569f715a",
   "metadata": {},
   "outputs": [],
   "source": []
  }
 ],
 "metadata": {
  "kernelspec": {
   "display_name": "Python 3 (ipykernel)",
   "language": "python",
   "name": "python3"
  },
  "language_info": {
   "codemirror_mode": {
    "name": "ipython",
    "version": 3
   },
   "file_extension": ".py",
   "mimetype": "text/x-python",
   "name": "python",
   "nbconvert_exporter": "python",
   "pygments_lexer": "ipython3",
   "version": "3.10.9"
  }
 },
 "nbformat": 4,
 "nbformat_minor": 5
}
