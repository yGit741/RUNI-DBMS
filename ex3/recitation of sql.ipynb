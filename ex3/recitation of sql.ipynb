{
 "cells": [
  {
   "cell_type": "markdown",
   "metadata": {
    "id": "xwsXghPNvbcD"
   },
   "source": [
    "# Recitation 9 - SQL Exercise notebook"
   ]
  },
  {
   "cell_type": "markdown",
   "metadata": {},
   "source": [
    "For the following exercises we will use the following libraries: <br>\n",
    "- pandas (tabular data) https://pandas.pydata.org/docs/\n",
    "- sqlite database engine https://www.sqlite.org/index.html <br> "
   ]
  },
  {
   "cell_type": "code",
   "execution_count": 5,
   "metadata": {},
   "outputs": [],
   "source": [
    "import sqlite3\n",
    "import pandas as pd"
   ]
  },
  {
   "cell_type": "markdown",
   "metadata": {
    "id": "SfTn8p-86obq"
   },
   "source": [
    "This code example is from w3schools website: [Link](https://www.w3schools.com/sql/default.asp)"
   ]
  },
  {
   "cell_type": "markdown",
   "metadata": {
    "id": "KW3jQBMLvcNH"
   },
   "source": [
    "# Database Scheme"
   ]
  },
  {
   "cell_type": "code",
   "execution_count": 6,
   "metadata": {
    "id": "MHyKXqXY0IUL"
   },
   "outputs": [],
   "source": [
    "conn = sqlite3.connect('w3school_database') \n",
    "c = conn.cursor()"
   ]
  },
  {
   "cell_type": "code",
   "execution_count": 7,
   "metadata": {
    "id": "4qGeflXB0J9f"
   },
   "outputs": [],
   "source": [
    "c.execute('''\n",
    "            CREATE TABLE IF NOT EXISTS Drones\n",
    "            (\n",
    "            DroneID INTEGER PRIMARY KEY,\n",
    "            Manufacturer TEXT,\n",
    "            Model TEXT,\n",
    "            PayloadCapacity REAL,\n",
    "            AlgoUses TEXT\n",
    "            )\n",
    "          ''');"
   ]
  },
  {
   "cell_type": "code",
   "execution_count": 8,
   "metadata": {
    "id": "eRxvZvaZ0Lwf"
   },
   "outputs": [],
   "source": [
    "c.execute('''\n",
    "            CREATE TABLE IF NOT EXISTS Algorithms\n",
    "            (\n",
    "            AlgoName TEXT PRIMARY KEY,\n",
    "            License TEXT,\n",
    "            NeedInternet INTEGER,\n",
    "            BasedGPS INTEGER\n",
    "            )\n",
    "          ''');"
   ]
  },
  {
   "cell_type": "code",
   "execution_count": 9,
   "metadata": {
    "id": "_zVelPSD0OE3"
   },
   "outputs": [],
   "source": [
    "c.execute('''\n",
    "            CREATE TABLE IF NOT EXISTS Products\n",
    "            (\n",
    "            ItemID INTEGER PRIMARY KEY,\n",
    "            CatalogNumber INTEGER,\n",
    "            Type TEXT,\n",
    "            Price REAL,\n",
    "            Weight REAL,\n",
    "            Height REAL,\n",
    "            FOREIGN KEY (CatalogNumber) REFERENCES Food(CatalogNumber),\n",
    "            FOREIGN KEY (CatalogNumber) REFERENCES Flowers(CatalogNumber),\n",
    "            FOREIGN KEY (CatalogNumber) REFERENCES Orders(CatalogNumber)\n",
    "            )\n",
    "          ''');"
   ]
  },
  {
   "cell_type": "code",
   "execution_count": 10,
   "metadata": {
    "id": "9XY5aMho0PZb"
   },
   "outputs": [],
   "source": [
    "c.execute('''\n",
    "            CREATE TABLE IF NOT EXISTS Customers\n",
    "            (\n",
    "            ID INTEGER PRIMARY KEY,\n",
    "            FullName TEXT,\n",
    "            Gender TEXT,\n",
    "            Address TEXT,\n",
    "            DateOfBirth TEXT,\n",
    "            PartnerID INTEGER,\n",
    "            GiftCardEligible INTEGER\n",
    "            )\n",
    "          ''');"
   ]
  },
  {
   "cell_type": "code",
   "execution_count": 11,
   "metadata": {},
   "outputs": [],
   "source": [
    "c.execute('''\n",
    "            CREATE TABLE IF NOT EXISTS Flowers \n",
    "            (\n",
    "            CatalogNumber INTEGER PRIMARY KEY,\n",
    "            Name TEXT,\n",
    "            Color TEXT,\n",
    "            LightNeed TEXT,\n",
    "            WaterNeed TEXT\n",
    "            )\n",
    "          ''');"
   ]
  },
  {
   "cell_type": "code",
   "execution_count": 12,
   "metadata": {},
   "outputs": [],
   "source": [
    "c.execute('''\n",
    "            CREATE TABLE IF NOT EXISTS Flowers \n",
    "            (\n",
    "            CatalogNumber INTEGER PRIMARY KEY,\n",
    "            Name TEXT,\n",
    "            Color TEXT,\n",
    "            LightNeed TEXT,\n",
    "            WaterNeed TEXT\n",
    "            )\n",
    "          ''');"
   ]
  },
  {
   "cell_type": "code",
   "execution_count": 13,
   "metadata": {},
   "outputs": [],
   "source": [
    "c.execute('''\n",
    "            CREATE TABLE IF NOT EXISTS Orders\n",
    "            (\n",
    "            CustomerID INTEGER,\n",
    "            TimeDate TEXT,\n",
    "            CatalogNumber INTEGER,\n",
    "            DroneID INTEGER,\n",
    "            Quantity INTEGER,\n",
    "            TotalPrice REAL,\n",
    "            PRIMARY KEY (CustomerID, TimeDate, CatalogNumber),\n",
    "            FOREIGN KEY (CustomerID) REFERENCES Customers(ID),\n",
    "            FOREIGN KEY (CatalogNumber) REFERENCES Products(CatalogNumber),\n",
    "            FOREIGN KEY (DroneID) REFERENCES Drones(DroneID)\n",
    "            )\n",
    "          ''');"
   ]
  },
  {
   "cell_type": "code",
   "execution_count": 14,
   "metadata": {},
   "outputs": [],
   "source": [
    "c.execute('''\n",
    "            CREATE TABLE IF NOT EXISTS FlowersInventory\n",
    "            (\n",
    "            CatalogNumber INTEGER,\n",
    "            Room TEXT,\n",
    "            Shelf TEXT,\n",
    "            Quantity INTEGER,\n",
    "            PRIMARY KEY (CatalogNumber, Room, Shelf)\n",
    "            )\n",
    "          ''');"
   ]
  },
  {
   "cell_type": "code",
   "execution_count": 15,
   "metadata": {},
   "outputs": [],
   "source": [
    "c.execute('''\n",
    "            CREATE TABLE IF NOT EXISTS FoodBusiness\n",
    "            (\n",
    "            BusinessName TEXT,\n",
    "            Address TEXT,\n",
    "            Phone TEXT,\n",
    "            PRIMARY KEY (BusinessName)\n",
    "            )\n",
    "          ''');"
   ]
  },
  {
   "cell_type": "code",
   "execution_count": 16,
   "metadata": {
    "id": "0MMfrWjXsYcb"
   },
   "outputs": [],
   "source": [
    "conn.commit()"
   ]
  },
  {
   "cell_type": "markdown",
   "metadata": {
    "id": "IN69Rj9m0gd9"
   },
   "source": [
    "# Insert data"
   ]
  },
  {
   "cell_type": "code",
   "execution_count": 17,
   "metadata": {
    "id": "xFcL7PMZ071R"
   },
   "outputs": [],
   "source": [
    "conn = sqlite3.connect('w3school_database') \n",
    "c = conn.cursor()"
   ]
  },
  {
   "cell_type": "code",
   "execution_count": 18,
   "metadata": {
    "id": "UG47aHVU07re"
   },
   "outputs": [
    {
     "data": {
      "text/plain": [
       "<sqlite3.Cursor at 0x1d2218ec840>"
      ]
     },
     "execution_count": 18,
     "metadata": {},
     "output_type": "execute_result"
    }
   ],
   "source": [
    "c.execute('''\n",
    "    INSERT INTO Drones (DroneID, Manufacturer, Model, PayloadCapacity, AlgoUses)\n",
    "    VALUES\n",
    "        (1, 'DJI', 'Mavic Air 2', 2.49, 'FreeNav'),\n",
    "        (2, 'DJI', 'Phantom 4 Pro', 2.03, 'FreeNav'),\n",
    "        (3, 'DJI', 'Mavic Air 2', 2.49, 'NavGar'),\n",
    "        (4, 'DJI', 'Mavic Air 2', 2.49, 'FreeNav'),\n",
    "        (5, 'DJI', 'Mavic Air 2', 2.49, 'NavGar'),\n",
    "        (6, 'Parrot', 'Anafi', 0.31, 'FreeNav'),\n",
    "        (7, 'Parrot', 'Anafi', 0.31, 'NavGar'),\n",
    "        (8, 'Parrot', 'Anafi', 0.31, 'FreeNav'),\n",
    "        (9, 'Parrot', 'Bebop 2', 0.5, 'NavGar'),\n",
    "        (10, 'Parrot', 'Anafi', 0.31, 'NavGar')\n",
    "''')\n",
    "\n"
   ]
  },
  {
   "cell_type": "code",
   "execution_count": 19,
   "metadata": {},
   "outputs": [
    {
     "data": {
      "text/plain": [
       "<sqlite3.Cursor at 0x1d2218ec840>"
      ]
     },
     "execution_count": 19,
     "metadata": {},
     "output_type": "execute_result"
    }
   ],
   "source": [
    "c.execute('''\n",
    "    INSERT INTO Algorithms (AlgoName, License, NeedInternet, BasedGPS)\n",
    "    VALUES\n",
    "        ('FreeNav', 'Free', 1, 0),\n",
    "        ('NavGar', 'GARMIN', 0, 1)\n",
    "\n",
    "''')\n"
   ]
  },
  {
   "cell_type": "code",
   "execution_count": null,
   "metadata": {},
   "outputs": [],
   "source": []
  },
  {
   "cell_type": "code",
   "execution_count": 20,
   "metadata": {},
   "outputs": [
    {
     "data": {
      "text/html": [
       "<div>\n",
       "<style scoped>\n",
       "    .dataframe tbody tr th:only-of-type {\n",
       "        vertical-align: middle;\n",
       "    }\n",
       "\n",
       "    .dataframe tbody tr th {\n",
       "        vertical-align: top;\n",
       "    }\n",
       "\n",
       "    .dataframe thead th {\n",
       "        text-align: right;\n",
       "    }\n",
       "</style>\n",
       "<table border=\"1\" class=\"dataframe\">\n",
       "  <thead>\n",
       "    <tr style=\"text-align: right;\">\n",
       "      <th></th>\n",
       "      <th>0</th>\n",
       "      <th>1</th>\n",
       "      <th>2</th>\n",
       "      <th>3</th>\n",
       "      <th>4</th>\n",
       "      <th>5</th>\n",
       "      <th>6</th>\n",
       "      <th>7</th>\n",
       "      <th>8</th>\n",
       "    </tr>\n",
       "  </thead>\n",
       "  <tbody>\n",
       "    <tr>\n",
       "      <th>0</th>\n",
       "      <td>1</td>\n",
       "      <td>DJI</td>\n",
       "      <td>Mavic Air 2</td>\n",
       "      <td>2.49</td>\n",
       "      <td>FreeNav</td>\n",
       "      <td>FreeNav</td>\n",
       "      <td>Free</td>\n",
       "      <td>1</td>\n",
       "      <td>0</td>\n",
       "    </tr>\n",
       "    <tr>\n",
       "      <th>1</th>\n",
       "      <td>2</td>\n",
       "      <td>DJI</td>\n",
       "      <td>Phantom 4 Pro</td>\n",
       "      <td>2.03</td>\n",
       "      <td>FreeNav</td>\n",
       "      <td>FreeNav</td>\n",
       "      <td>Free</td>\n",
       "      <td>1</td>\n",
       "      <td>0</td>\n",
       "    </tr>\n",
       "    <tr>\n",
       "      <th>2</th>\n",
       "      <td>3</td>\n",
       "      <td>DJI</td>\n",
       "      <td>Mavic Air 2</td>\n",
       "      <td>2.49</td>\n",
       "      <td>NavGar</td>\n",
       "      <td>NavGar</td>\n",
       "      <td>GARMIN</td>\n",
       "      <td>0</td>\n",
       "      <td>1</td>\n",
       "    </tr>\n",
       "    <tr>\n",
       "      <th>3</th>\n",
       "      <td>4</td>\n",
       "      <td>DJI</td>\n",
       "      <td>Mavic Air 2</td>\n",
       "      <td>2.49</td>\n",
       "      <td>FreeNav</td>\n",
       "      <td>FreeNav</td>\n",
       "      <td>Free</td>\n",
       "      <td>1</td>\n",
       "      <td>0</td>\n",
       "    </tr>\n",
       "    <tr>\n",
       "      <th>4</th>\n",
       "      <td>5</td>\n",
       "      <td>DJI</td>\n",
       "      <td>Mavic Air 2</td>\n",
       "      <td>2.49</td>\n",
       "      <td>NavGar</td>\n",
       "      <td>NavGar</td>\n",
       "      <td>GARMIN</td>\n",
       "      <td>0</td>\n",
       "      <td>1</td>\n",
       "    </tr>\n",
       "    <tr>\n",
       "      <th>5</th>\n",
       "      <td>6</td>\n",
       "      <td>Parrot</td>\n",
       "      <td>Anafi</td>\n",
       "      <td>0.31</td>\n",
       "      <td>FreeNav</td>\n",
       "      <td>FreeNav</td>\n",
       "      <td>Free</td>\n",
       "      <td>1</td>\n",
       "      <td>0</td>\n",
       "    </tr>\n",
       "    <tr>\n",
       "      <th>6</th>\n",
       "      <td>7</td>\n",
       "      <td>Parrot</td>\n",
       "      <td>Anafi</td>\n",
       "      <td>0.31</td>\n",
       "      <td>NavGar</td>\n",
       "      <td>NavGar</td>\n",
       "      <td>GARMIN</td>\n",
       "      <td>0</td>\n",
       "      <td>1</td>\n",
       "    </tr>\n",
       "    <tr>\n",
       "      <th>7</th>\n",
       "      <td>8</td>\n",
       "      <td>Parrot</td>\n",
       "      <td>Anafi</td>\n",
       "      <td>0.31</td>\n",
       "      <td>FreeNav</td>\n",
       "      <td>FreeNav</td>\n",
       "      <td>Free</td>\n",
       "      <td>1</td>\n",
       "      <td>0</td>\n",
       "    </tr>\n",
       "    <tr>\n",
       "      <th>8</th>\n",
       "      <td>9</td>\n",
       "      <td>Parrot</td>\n",
       "      <td>Bebop 2</td>\n",
       "      <td>0.50</td>\n",
       "      <td>NavGar</td>\n",
       "      <td>NavGar</td>\n",
       "      <td>GARMIN</td>\n",
       "      <td>0</td>\n",
       "      <td>1</td>\n",
       "    </tr>\n",
       "    <tr>\n",
       "      <th>9</th>\n",
       "      <td>10</td>\n",
       "      <td>Parrot</td>\n",
       "      <td>Anafi</td>\n",
       "      <td>0.31</td>\n",
       "      <td>NavGar</td>\n",
       "      <td>NavGar</td>\n",
       "      <td>GARMIN</td>\n",
       "      <td>0</td>\n",
       "      <td>1</td>\n",
       "    </tr>\n",
       "  </tbody>\n",
       "</table>\n",
       "</div>"
      ],
      "text/plain": [
       "    0       1              2     3        4        5       6  7  8\n",
       "0   1     DJI    Mavic Air 2  2.49  FreeNav  FreeNav    Free  1  0\n",
       "1   2     DJI  Phantom 4 Pro  2.03  FreeNav  FreeNav    Free  1  0\n",
       "2   3     DJI    Mavic Air 2  2.49   NavGar   NavGar  GARMIN  0  1\n",
       "3   4     DJI    Mavic Air 2  2.49  FreeNav  FreeNav    Free  1  0\n",
       "4   5     DJI    Mavic Air 2  2.49   NavGar   NavGar  GARMIN  0  1\n",
       "5   6  Parrot          Anafi  0.31  FreeNav  FreeNav    Free  1  0\n",
       "6   7  Parrot          Anafi  0.31   NavGar   NavGar  GARMIN  0  1\n",
       "7   8  Parrot          Anafi  0.31  FreeNav  FreeNav    Free  1  0\n",
       "8   9  Parrot        Bebop 2  0.50   NavGar   NavGar  GARMIN  0  1\n",
       "9  10  Parrot          Anafi  0.31   NavGar   NavGar  GARMIN  0  1"
      ]
     },
     "execution_count": 20,
     "metadata": {},
     "output_type": "execute_result"
    }
   ],
   "source": [
    "# YOUR QUERY\n",
    "c.execute('''\n",
    "\n",
    "SELECT *\n",
    "FROM Drones AS d \n",
    "JOIN Algorithms AS a ON\n",
    "d.AlgoUses = a.AlgoName\n",
    "\n",
    "          ''')\n",
    "\n",
    "df = pd.DataFrame(c.fetchall())\n",
    "df.head(50)\n"
   ]
  },
  {
   "cell_type": "code",
   "execution_count": null,
   "metadata": {},
   "outputs": [],
   "source": [
    "import random\n",
    "import string\n",
    "\n",
    "# Function to generate random full names\n",
    "def generate_full_name():\n",
    "    first_name = random.choice([\"John\", \"Emma\", \"David\", \"Sophia\", \"Michael\", \"Olivia\"])\n",
    "    last_name = random.choice([\"Smith\", \"Johnson\", \"Brown\", \"Taylor\", \"Miller\", \"Davis\"])\n",
    "    return f\"{first_name} {last_name}\"\n",
    "\n",
    "# Function to generate random genders\n",
    "def generate_gender():\n",
    "    return random.choice([\"Male\", \"Female\"])\n",
    "\n",
    "# Function to generate random addresses\n",
    "def generate_address():\n",
    "    street = random.choice([\"Main Street\", \"Oak Avenue\", \"Park Road\", \"Cedar Lane\", \"Maple Street\"])\n",
    "    number = random.randint(1, 100)\n",
    "    city = \"Tel Aviv\"\n",
    "    return f\"{number} {street}, {city}\"\n",
    "\n",
    "# Function to generate random partner IDs (only a subset)\n",
    "def generate_partner_id():\n",
    "    return random.choice([1, 2, 3, None])\n",
    "\n",
    "# Function to generate random gift card eligibility\n",
    "def generate_gift_card_eligibility():\n",
    "    return random.choice([0, 1])\n",
    "\n",
    "# Generate 100 customers and insert them into the table\n",
    "for i in range(1, 101):\n",
    "    full_name = generate_full_name()\n",
    "    gender = generate_gender()\n",
    "    address = generate_address()\n",
    "    date_of_birth = ''.join(random.choice(string.digits) for _ in range(8))\n",
    "    partner_id = generate_partner_id()\n",
    "    gift_card_eligible = generate_gift_card_eligibility()\n",
    "\n",
    "    c.execute('''\n",
    "        INSERT INTO Customers (ID, FullName, Gender, Address, DateOfBirth, PartnerID, GiftCardEligible)\n",
    "        VALUES (?, ?, ?, ?, ?, ?, ?)\n",
    "    ''', (i, full_name, gender, address, date_of_birth, partner_id, gift_card_eligible))\n",
    "\n",
    "# Commit the changes\n",
    "conn.commit()\n"
   ]
  },
  {
   "cell_type": "code",
   "execution_count": null,
   "metadata": {},
   "outputs": [],
   "source": [
    "# YOUR QUERY\n",
    "c.execute('''\n",
    "\n",
    "SELECT *\n",
    "FROM Costumers\n",
    "\n",
    "          ''')\n",
    "\n",
    "df = pd.DataFrame(c.fetchall())\n",
    "df.head(50)"
   ]
  },
  {
   "cell_type": "code",
   "execution_count": null,
   "metadata": {},
   "outputs": [],
   "source": []
  },
  {
   "cell_type": "code",
   "execution_count": null,
   "metadata": {},
   "outputs": [],
   "source": []
  },
  {
   "cell_type": "code",
   "execution_count": null,
   "metadata": {},
   "outputs": [],
   "source": []
  },
  {
   "cell_type": "code",
   "execution_count": null,
   "metadata": {},
   "outputs": [],
   "source": []
  },
  {
   "cell_type": "code",
   "execution_count": null,
   "metadata": {
    "id": "P0lv6GMv09t7"
   },
   "outputs": [],
   "source": []
  },
  {
   "cell_type": "code",
   "execution_count": null,
   "metadata": {},
   "outputs": [],
   "source": []
  },
  {
   "cell_type": "code",
   "execution_count": null,
   "metadata": {
    "id": "Bcb56Sdm1J1x"
   },
   "outputs": [],
   "source": [
    "c.execute('''\n",
    "          INSERT INTO employees (EmployeeID, LastName, FirstName, BirthDate, Photo, Notes)\n",
    "                VALUES\n",
    "                (1, 'Davolio', 'Nancy', '1968-12-08', 'EmpID1.pic', 'Education includes a BA in psychology from Colorado State University. She also completed (The Art of the Cold Call). Nancy is a member of Toastmasters International.'),\n",
    "                (2, 'Fuller', 'Andrew', '1952-02-19', 'EmpID2.pic', 'Andrew received his BTS commercial and a Ph.D. in international marketing from the University of Dallas. He is fluent in French and Italian and reads German. He joined the company as a sales representative, was promoted to sales manager and was then named vice president of sales. Andrew is a member of the Sales Management Roundtable, the Seattle Chamber of Commerce, and the Pacific Rim Importers Association.'),\n",
    "                (3, 'Leverling', 'Janet', '1963-08-30', 'EmpID3.pic', 'Janet has a BS degree in chemistry from Boston College). She has also completed a certificate program in food retailing management. Janet was hired as a sales associate and was promoted to sales representative.'),\n",
    "                (4, 'Peacock', 'Margaret', '1958-09-19', 'EmpID4.pic', 'Margaret holds a BA in English literature from Concordia College and an MA from the American Institute of Culinary Arts. She was temporarily assigned to the London office before returning to her permanent post in Seattle.'),\n",
    "                (5, 'Buchanan', 'Steven', '1955-03-04', 'EmpID5.pic', 'Steven Buchanan graduated from St. Andrews University, Scotland, with a BSC degree. Upon joining the company as a sales representative, he spent 6 months in an orientation program at the Seattle office and then returned to his permanent post in London, where he was promoted to sales manager. Mr. Buchanan has completed the courses Successful Telemarketing and International Sales Management. He is fluent in French.'),\n",
    "                (6, 'Suyama', 'Michael', '1963-07-02', 'EmpID6.pic', 'Michael is a graduate of Sussex University (MA, economics) and the University of California at Los Angeles (MBA, marketing). He has also taken the courses Multi-Cultural Selling and Time Management for the Sales Professional. He is fluent in Japanese and can read and write French, Portuguese, and Spanish.'),\n",
    "                (7, 'King', 'Robert', '1960-05-29', 'EmpID7.pic', 'Robert King served in the Peace Corps and traveled extensively before completing his degree in English at the University of Michigan and then joining the company. After completing a course entitled Selling in Europe, he was transferred to the London office.'),\n",
    "                (8, 'Callahan', 'Laura', '1958-01-09', 'EmpID8.pic', 'Laura received a BA in psychology from the University of Washington. She has also completed a course in business French. She reads and writes French.'),\n",
    "                (9, 'Dodsworth', 'Anne', '1969-07-02', 'EmpID9.pic', 'Anne has a BA degree in English from St. Lawrence College. She is fluent in French and German.'),\n",
    "                (10, 'West', 'Adam', '1928-09-19', 'EmpID10.pic', 'An old chum.')\n",
    "          ''');"
   ]
  },
  {
   "cell_type": "code",
   "execution_count": null,
   "metadata": {
    "id": "MJeKa2VpuFNO"
   },
   "outputs": [],
   "source": [
    "conn.commit()"
   ]
  },
  {
   "cell_type": "code",
   "execution_count": null,
   "metadata": {},
   "outputs": [],
   "source": [
    "conn = sqlite3.connect('w3school_database') \n",
    "c = conn.cursor()"
   ]
  },
  {
   "cell_type": "markdown",
   "metadata": {
    "id": "yL4HUfEu37d2"
   },
   "source": [
    "## Example"
   ]
  },
  {
   "cell_type": "code",
   "execution_count": 21,
   "metadata": {},
   "outputs": [
    {
     "data": {
      "text/html": [
       "<div>\n",
       "<style scoped>\n",
       "    .dataframe tbody tr th:only-of-type {\n",
       "        vertical-align: middle;\n",
       "    }\n",
       "\n",
       "    .dataframe tbody tr th {\n",
       "        vertical-align: top;\n",
       "    }\n",
       "\n",
       "    .dataframe thead th {\n",
       "        text-align: right;\n",
       "    }\n",
       "</style>\n",
       "<table border=\"1\" class=\"dataframe\">\n",
       "  <thead>\n",
       "    <tr style=\"text-align: right;\">\n",
       "      <th></th>\n",
       "      <th>ProductID</th>\n",
       "      <th>ProductName</th>\n",
       "      <th>SupplierID</th>\n",
       "      <th>CategoryID</th>\n",
       "      <th>Unit</th>\n",
       "      <th>Price</th>\n",
       "    </tr>\n",
       "  </thead>\n",
       "  <tbody>\n",
       "  </tbody>\n",
       "</table>\n",
       "</div>"
      ],
      "text/plain": [
       "Empty DataFrame\n",
       "Columns: [ProductID, ProductName, SupplierID, CategoryID, Unit, Price]\n",
       "Index: []"
      ]
     },
     "execution_count": 21,
     "metadata": {},
     "output_type": "execute_result"
    }
   ],
   "source": [
    "c.execute('''\n",
    "            SELECT *\n",
    "            FROM [Products]\n",
    "            WHERE [Price] > 20\n",
    "\n",
    "          ''')\n",
    "\n",
    "df = pd.DataFrame(c.fetchall(), columns=['ProductID', 'ProductName', 'SupplierID', 'CategoryID', 'Unit', 'Price'])\n",
    "df.head(10)"
   ]
  },
  {
   "cell_type": "code",
   "execution_count": null,
   "metadata": {},
   "outputs": [],
   "source": [
    "c.execute('''\n",
    "            SELECT *\n",
    "            FROM [Products]\n",
    "            WHERE [Price] IN (10,15,20)\n",
    "\n",
    "          ''')\n",
    "\n",
    "df = pd.DataFrame(c.fetchall(), columns=['ProductID', 'ProductName', 'SupplierID', 'CategoryID', 'Unit', 'Price'])\n",
    "df.head(50)"
   ]
  },
  {
   "cell_type": "code",
   "execution_count": null,
   "metadata": {},
   "outputs": [],
   "source": [
    "c.execute('''\n",
    "            SELECT *\n",
    "            FROM [Products]\n",
    "            WHERE [ProductName] IS NOT Null\n",
    "\n",
    "          ''')\n",
    "\n",
    "df = pd.DataFrame(c.fetchall(), columns=['ProductID', 'ProductName', 'SupplierID', 'CategoryID', 'Unit', 'Price'])\n",
    "df.head()"
   ]
  },
  {
   "cell_type": "markdown",
   "metadata": {},
   "source": [
    "# Exercise\n",
    "**Write a query which returns the output below each question. <br>\n",
    "Be careful not to run the output cell (the output will disapper).**"
   ]
  },
  {
   "cell_type": "markdown",
   "metadata": {},
   "source": [
    "### Question 1:\n",
    "Select ProductId and ProductName where product name contains \"Alice\":<br>\n",
    "hint: use LIKE"
   ]
  },
  {
   "cell_type": "code",
   "execution_count": null,
   "metadata": {},
   "outputs": [],
   "source": [
    "# YOUR QUERY\n",
    "c.execute('''\n",
    "SELECT ProductId, ProductName\n",
    "FROM products\n",
    "WHERE ProductName LIKE \"%Alice%\"\n",
    "\n",
    "\n",
    "\n",
    "\n",
    "          ''')\n",
    "\n",
    "df = pd.DataFrame(c.fetchall(), columns=['ProductID', 'ProductName'])\n",
    "df.head()"
   ]
  },
  {
   "cell_type": "code",
   "execution_count": null,
   "metadata": {
    "colab": {
     "base_uri": "https://localhost:8080/",
     "height": 206
    },
    "id": "Xud6P9F31BrZ",
    "outputId": "76904a8d-7a37-4069-f81b-fcfbaa6ab0b1"
   },
   "outputs": [],
   "source": [
    "## REQUIRED OUTPUT"
   ]
  },
  {
   "cell_type": "markdown",
   "metadata": {},
   "source": [
    "### Question 2:\n",
    "Select ProductId and ProductName where product name starts with \"CH\" and contains 5 chars:"
   ]
  },
  {
   "cell_type": "code",
   "execution_count": null,
   "metadata": {},
   "outputs": [],
   "source": [
    "# YOUR QUERY\n",
    "c.execute('''\n",
    "\n",
    "SELECT ProductId, ProductName\n",
    "FROM products\n",
    "WHERE ProductName LIKE \"%CH___\"\n",
    "\n",
    "          ''')\n",
    "\n",
    "df = pd.DataFrame(c.fetchall(), columns=['ProductID', 'ProductName'])\n",
    "df.head()"
   ]
  },
  {
   "cell_type": "code",
   "execution_count": null,
   "metadata": {
    "colab": {
     "base_uri": "https://localhost:8080/",
     "height": 206
    },
    "id": "G1s4uKR31Bow",
    "outputId": "d11e00ba-501c-4625-b8dc-51cb6cecc550"
   },
   "outputs": [],
   "source": [
    "## REQUIRED OUTPUT"
   ]
  },
  {
   "cell_type": "markdown",
   "metadata": {},
   "source": [
    "### Question 3:\n",
    "Select product ids names and suppliers of products from category 3"
   ]
  },
  {
   "cell_type": "code",
   "execution_count": null,
   "metadata": {},
   "outputs": [],
   "source": [
    "# YOUR QUERY\n",
    "c.execute('''\n",
    "\n",
    "SELECT ProductId, ProductName, SupplierName\n",
    "FROM products p JOIN Suppliers s ON s.SupplierID=p.SupplierID\n",
    "WHERE CategoryID=3\n",
    "\n",
    "          ''')\n",
    "\n",
    "df = pd.DataFrame(c.fetchall(), columns=['ProductID', 'ProductName','SupplierName'])\n",
    "df.head(50)"
   ]
  },
  {
   "cell_type": "code",
   "execution_count": null,
   "metadata": {},
   "outputs": [],
   "source": [
    "## REQUIRED OUTPUT"
   ]
  },
  {
   "cell_type": "markdown",
   "metadata": {},
   "source": [
    "### Question 4:\n",
    "Select for each product in Orders the total price of the product if total price  is larger than 100, sort result by ProductId asc and by total price desc"
   ]
  },
  {
   "cell_type": "markdown",
   "metadata": {},
   "source": [
    "**Because we don't have unitprice in order_details, please use the value of productID as unitprice**"
   ]
  },
  {
   "cell_type": "code",
   "execution_count": null,
   "metadata": {},
   "outputs": [],
   "source": [
    "# YOUR QUERY\n",
    "c.execute('''\n",
    "\n",
    "\n",
    "\n",
    "\n",
    "\n",
    "          ''')\n",
    "\n",
    "df = pd.DataFrame(c.fetchall(), columns=['OrderID', 'ProductID', 'Quantity', 'Price'])\n",
    "df.head(10)"
   ]
  },
  {
   "cell_type": "code",
   "execution_count": null,
   "metadata": {},
   "outputs": [],
   "source": [
    "## REQUIRED OUTPUT"
   ]
  },
  {
   "cell_type": "markdown",
   "metadata": {},
   "source": [
    "### Question 5:\n",
    "Select maximum product price:<br>\n",
    "hint: use aggregation"
   ]
  },
  {
   "cell_type": "code",
   "execution_count": null,
   "metadata": {},
   "outputs": [],
   "source": [
    "# YOUR QUERY\n",
    "c.execute('''\n",
    "\n",
    "\n",
    "\n",
    "\n",
    "\n",
    "          ''')\n",
    "\n",
    "df = pd.DataFrame(c.fetchall())\n",
    "df.head()"
   ]
  },
  {
   "cell_type": "code",
   "execution_count": null,
   "metadata": {},
   "outputs": [],
   "source": [
    "## REQUIRED OUTPUT"
   ]
  },
  {
   "cell_type": "markdown",
   "metadata": {},
   "source": [
    "### Question 6:\n",
    "Select number of product supplied by supplier 2:"
   ]
  },
  {
   "cell_type": "code",
   "execution_count": null,
   "metadata": {},
   "outputs": [],
   "source": [
    "# YOUR QUERY\n",
    "c.execute('''\n",
    "\n",
    "\n",
    "\n",
    "\n",
    "\n",
    "          ''')\n",
    "\n",
    "df = pd.DataFrame(c.fetchall())\n",
    "df.head()"
   ]
  },
  {
   "cell_type": "code",
   "execution_count": null,
   "metadata": {},
   "outputs": [],
   "source": [
    "## REQUIRED OUTPUT"
   ]
  },
  {
   "cell_type": "markdown",
   "metadata": {},
   "source": [
    "### Question 7:\n",
    "Select for each supplier its ID and number of products it supplies:"
   ]
  },
  {
   "cell_type": "code",
   "execution_count": null,
   "metadata": {},
   "outputs": [],
   "source": [
    "# YOUR QUERY\n",
    "c.execute('''\n",
    "\n",
    "\n",
    "\n",
    "\n",
    "\n",
    "          ''')\n",
    "\n",
    "df = pd.DataFrame(c.fetchall(), columns=['SupplierID', 'SuppliersProducts'])\n",
    "df.head(10)"
   ]
  },
  {
   "cell_type": "code",
   "execution_count": null,
   "metadata": {},
   "outputs": [],
   "source": [
    "## REQUIRED OUTPUT"
   ]
  },
  {
   "cell_type": "markdown",
   "metadata": {},
   "source": [
    "### Question 8:\n",
    "Select for each supplier its ID and max product price is provides for suppliers with supplier id less than 15:"
   ]
  },
  {
   "cell_type": "code",
   "execution_count": null,
   "metadata": {},
   "outputs": [],
   "source": [
    "# YOUR QUERY\n",
    "c.execute('''\n",
    "\n",
    "\n",
    "\n",
    "\n",
    "\n",
    "          ''')\n",
    "\n",
    "df = pd.DataFrame(c.fetchall(), columns=['SupplierID', 'SupplierCostlyProductPrice'])\n",
    "df.head(10)"
   ]
  },
  {
   "cell_type": "code",
   "execution_count": null,
   "metadata": {},
   "outputs": [],
   "source": [
    "## REQUIRED OUTPUT"
   ]
  },
  {
   "cell_type": "markdown",
   "metadata": {},
   "source": [
    "### Question 9:\n",
    "Select for each supplier its ID and number of products it supplies for suppliers who provides more than 3 products:"
   ]
  },
  {
   "cell_type": "code",
   "execution_count": null,
   "metadata": {},
   "outputs": [],
   "source": [
    "# YOUR QUERY\n",
    "c.execute('''\n",
    "\n",
    "\n",
    "\n",
    "\n",
    "\n",
    "          ''')\n",
    "\n",
    "df = pd.DataFrame(c.fetchall(), columns=['SupplierID', 'SuppliersProducts'])\n",
    "df.head(10)"
   ]
  },
  {
   "cell_type": "code",
   "execution_count": null,
   "metadata": {},
   "outputs": [],
   "source": [
    "## REQUIRED OUTPUT"
   ]
  },
  {
   "cell_type": "markdown",
   "metadata": {},
   "source": [
    "### Question 10:\n",
    "Find for each order its total cost:"
   ]
  },
  {
   "cell_type": "markdown",
   "metadata": {},
   "source": [
    "**Because we don't have unitprice in order_detail, please use the value of productID as unitprice**"
   ]
  },
  {
   "cell_type": "code",
   "execution_count": null,
   "metadata": {},
   "outputs": [],
   "source": [
    "# YOUR QUERY\n",
    "c.execute('''\n",
    "\n",
    "\n",
    "\n",
    "\n",
    "\n",
    "          ''')\n",
    "\n",
    "df = pd.DataFrame(c.fetchall(), columns=['OrderID', 'Price'])\n",
    "df.head(10)"
   ]
  },
  {
   "cell_type": "code",
   "execution_count": null,
   "metadata": {},
   "outputs": [],
   "source": [
    "## REQUIRED OUTPUT"
   ]
  },
  {
   "cell_type": "markdown",
   "metadata": {},
   "source": [
    "### Question 11:\n",
    "Find product id and name of the best seller product:"
   ]
  },
  {
   "cell_type": "code",
   "execution_count": null,
   "metadata": {},
   "outputs": [],
   "source": [
    "# YOUR QUERY\n",
    "c.execute('''\n",
    "\n",
    "\n",
    "\n",
    "\n",
    "\n",
    "          ''')\n",
    "\n",
    "df = pd.DataFrame(c.fetchall(), columns=['ProductID', 'ProductName'])\n",
    "df.head()"
   ]
  },
  {
   "cell_type": "code",
   "execution_count": null,
   "metadata": {},
   "outputs": [],
   "source": [
    "## REQUIRED OUTPUT"
   ]
  },
  {
   "cell_type": "code",
   "execution_count": null,
   "metadata": {},
   "outputs": [],
   "source": []
  }
 ],
 "metadata": {
  "colab": {
   "collapsed_sections": [
    "KW3jQBMLvcNH",
    "IN69Rj9m0gd9",
    "nZGq_N2O7a00",
    "yL4HUfEu37d2",
    "YYMEevUc7gNp",
    "5pubm4gu9IkU",
    "LdV7wiUZ-d9a",
    "ppJYYi_9Cnmo",
    "2nxyNFJBC7aK",
    "vM2u-y4VDns0",
    "UOw_Wvn3EDNL",
    "qd1COfovEexU",
    "0jzk8IkqQWk0",
    "wy8PsfmaQthj",
    "TVfwX7-SRtbv"
   ],
   "name": "SQL.ipynb",
   "provenance": []
  },
  "kernelspec": {
   "display_name": "Python 3 (ipykernel)",
   "language": "python",
   "name": "python3"
  },
  "language_info": {
   "codemirror_mode": {
    "name": "ipython",
    "version": 3
   },
   "file_extension": ".py",
   "mimetype": "text/x-python",
   "name": "python",
   "nbconvert_exporter": "python",
   "pygments_lexer": "ipython3",
   "version": "3.10.9"
  }
 },
 "nbformat": 4,
 "nbformat_minor": 1
}
