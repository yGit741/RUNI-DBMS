{
 "cells": [
  {
   "cell_type": "markdown",
   "id": "08b01233",
   "metadata": {},
   "source": [
    "# HW3 - Practical Databases"
   ]
  },
  {
   "cell_type": "markdown",
   "id": "35beac0a",
   "metadata": {},
   "source": [
    "Noa Ben-David (300950565)  \n",
    "Yonatan Greenshpan (204266191)\n"
   ]
  },
  {
   "cell_type": "code",
   "execution_count": null,
   "id": "c291fea0",
   "metadata": {},
   "outputs": [],
   "source": [
    "# import required libraries and dependencies\n",
    "import sqlite3\n",
    "import pandas as pd\n",
    "import os\n",
    "import random\n",
    "import string"
   ]
  },
  {
   "cell_type": "code",
   "execution_count": null,
   "id": "4e8c9ef0",
   "metadata": {},
   "outputs": [],
   "source": [
    "last_names = [\n",
    "    \"Levi\", \"Cohen\", \"Mizrachi\", \"Ben-David\", \"Katz\", \"Peretz\", \"Weiss\", \"Friedman\", \"Goldberg\", \"Avidan\",\n",
    "    \"Levin\", \"Harel\", \"Carmi\", \"Shapira\", \"Adler\", \"Azulay\", \"Golan\", \"Cohen\", \"Zarfati\", \"Ohana\",\n",
    "    \"Mor\", \"Avrahami\", \"Shachar\", \"Biton\", \"Luzon\", \"Kadosh\", \"Drori\", \"Amir\", \"Rosenbaum\", \"Gur\",\n",
    "    \"Koren\", \"Natan\", \"Bashan\", \"Gefen\", \"Zaguri\", \"Zada\", \"Meir\", \"Vardi\", \"Berger\", \"Alon\",\n",
    "    \"Stern\", \"Vaknin\", \"Elbaz\", \"Shavit\", \"Barkai\", \"Ovadia\", \"Amrami\", \"Glickman\", \"Margalit\", \"Even\",\n",
    "    \"Shaul\", \"Pinto\", \"Yosef\", \"Harari\", \"Kaplan\", \"Meshulam\", \"Yitzhaki\", \"Cohen\", \"Bar-Lev\", \"Weissman\",\n",
    "    \"Goldstein\", \"Soffer\", \"Eisenberg\", \"Golan\", \"Nir\", \"Avraham\", \"Yoffe\", \"Tamir\", \"Paz\", \"Dahan\",\n",
    "    \"Zamir\", \"Carmeli\", \"Amir\", \"Malka\", \"Shamir\", \"Cohen\", \"Ben-Haim\", \"Rozenblat\", \"Barzilai\", \"Asulin\",\n",
    "    \"Gavriel\", \"Tal\", \"Yaniv\", \"Admoni\", \"Amram\", \"Binyamin\", \"Kadosh\", \"Elimelech\", \"Yakobov\", \"Zaltzman\",\n",
    "    \"Meiri\", \"Shavit\", \"Tzur\", \"Bentzion\", \"Ovadia\", \"Shapira\", \"Yitzhak\", \"Mizrachi\", \"Ben-Shabat\", \"Amrami\",\n",
    "    \"Yeshurun\", \"Kaspi\", \"Kedar\", \"Vardi\", \"Shalom\", \"Eitan\", \"Glickman\", \"Ohayon\", \"Kohen\", \"Elimelech\",\n",
    "    \"Scheinin\", \"Amsalem\", \"Sharabi\", \"Weiss\", \"Sadeh\", \"Shani\", \"Golan\", \"Even-Chen\", \"Harari\", \"Shimon\",\n",
    "    \"Leitner\", \"Aviram\", \"Barak\", \"Weizman\", \"Katzir\", \"Orlev\", \"Zamir\", \"Kaplan\", \"Eitan\", \"Golani\",\n",
    "    \"Cohen\", \"Ben-Harosh\", \"Rozenbaum\", \"Barzilai\", \"Asulin\", \"Gavriel\", \"Tal\", \"Yaniv\", \"Admoni\", \"Amram\",\n",
    "    \"Binyamin\", \"Kadosh\", \"Elimelech\", \"Yakobov\", \"Zaltzman\", \"Meiri\", \"Shavit\", \"Tzur\", \"Bentzion\", \"Ovadia\"]\n",
    "\n",
    "first_names = [\n",
    "    \"Noa\", \"Yael\", \"Maya\", \"Tamar\", \"Shira\", \"Adi\", \"Noga\", \"Lior\", \"Eli\", \"Yoni\",\n",
    "    \"Daniel\", \"Aviv\", \"Omri\", \"Yotam\", \"Ido\", \"Itay\", \"Gil\", \"Matan\", \"Bar\", \"Nir\",\n",
    "    \"Sarit\", \"Shani\", \"Gal\", \"Inbal\", \"Keren\", \"Tali\", \"Dana\", \"Tal\", \"Moran\", \"Michal\",\n",
    "    \"Yaniv\", \"Yaron\", \"Omer\", \"Yair\", \"Ron\", \"Eran\", \"Hadar\", \"Gali\", \"Roni\", \"Lihi\",\n",
    "    \"Amit\", \"Yiftach\", \"Or\", \"Yaeli\", \"Adva\", \"Nir\", \"Shay\", \"Maayan\", \"Avital\", \"Efrat\",\n",
    "    \"Ronit\", \"Hila\", \"Shani\", \"Yam\", \"Elad\", \"Gili\", \"Amir\", \"Hadar\", \"Shachar\", \"Shlomi\",\n",
    "    \"Yishai\", \"Sagi\", \"Liron\", \"Sharon\", \"Eitan\", \"Galit\", \"Ruth\", \"Yonatan\", \"Yarden\", \"Sivan\",\n",
    "    \"Tomer\", \"Avi\", \"Ran\", \"May\", \"Sharon\", \"Oshri\", \"Natalie\", \"Iris\", \"Noy\", \"Omri\",\n",
    "    \"Ronit\", \"Adi\", \"Shaked\", \"Tom\", \"Ofir\", \"Noam\", \"Yifat\", \"Dor\", \"Rotem\", \"Eliran\",\n",
    "    \"Ariel\", \"Mor\", \"Ziv\", \"Efrat\", \"Guy\", \"Yam\"]\n",
    "\n",
    "street_names = [\n",
    "    \"Rothschild Boulevard\",\n",
    "    \"Dizengoff \",\n",
    "    \"Ibn Gabirol \",\n",
    "    \"Ben Yehuda \",\n",
    "    \"Allenby \",\n",
    "    \"HaYarkon \",\n",
    "    \"Herzl \",\n",
    "    \"King George \",\n",
    "    \"Bograshov \",\n",
    "    \"Hayarkon \",\n",
    "    \"Allenby \",\n",
    "    \"Ben Gurion Boulevard\",\n",
    "    \"Shenkin \",\n",
    "    \"HaCarmel \",\n",
    "    \"Montefiore \",\n",
    "    \"Yehuda HaLevi \",\n",
    "    \"Ben Zion Boulevard\",\n",
    "    \"Bialik \",\n",
    "    \"Nachalat Binyamin \",\n",
    "    \"HaHashmonaim \",\n",
    "    \"HaYarkon \",\n",
    "    \"Ben Yehuda \",\n",
    "    \"HaBima \",\n",
    "    \"Frishman \",\n",
    "    \"Gordon \",\n",
    "    \"Arlozorov \"]\n",
    "\n",
    "\n"
   ]
  },
  {
   "cell_type": "code",
   "execution_count": null,
   "id": "e53dc63e",
   "metadata": {},
   "outputs": [],
   "source": [
    "if os.path.exists('inovative_flowers'):\n",
    "    os.remove('inovative_flowers')"
   ]
  },
  {
   "cell_type": "code",
   "execution_count": null,
   "id": "efa0c6dc",
   "metadata": {},
   "outputs": [],
   "source": [
    "def show_all_tables(database_file):\n",
    "    conn = sqlite3.connect(database_file)\n",
    "    cursor = conn.cursor()\n",
    "\n",
    "    # Retrieve the list of tables in the database\n",
    "    cursor.execute(\"SELECT name FROM sqlite_master WHERE type='table';\")\n",
    "    tables = cursor.fetchall()\n",
    "\n",
    "    # Print the table names\n",
    "    for table in tables:\n",
    "        print(table[0])\n",
    "\n",
    "    conn.close()\n",
    "    \n",
    "def delete_all_records(table_name):\n",
    "    conn = sqlite3.connect('your_database.db')\n",
    "    cursor = conn.cursor()\n",
    "    \n",
    "    try:\n",
    "        cursor.execute(f\"DELETE FROM {table_name};\")\n",
    "        print(f\"All records deleted from table '{table_name}'.\")\n",
    "        conn.commit()\n",
    "    except sqlite3.Error as e:\n",
    "        print(f\"Error deleting records from table '{table_name}': {e}\")\n",
    "    \n",
    "    conn.close()\n",
    "    \n",
    "\n"
   ]
  },
  {
   "cell_type": "code",
   "execution_count": null,
   "id": "7cd5d721",
   "metadata": {},
   "outputs": [],
   "source": []
  },
  {
   "cell_type": "code",
   "execution_count": null,
   "id": "7fe8852f",
   "metadata": {},
   "outputs": [],
   "source": [
    "show_all_tables('inovative_flowers')"
   ]
  },
  {
   "cell_type": "markdown",
   "id": "6c99cdd5",
   "metadata": {},
   "source": [
    "## Initializing the DB"
   ]
  },
  {
   "cell_type": "markdown",
   "id": "90faf028",
   "metadata": {},
   "source": [
    "Creating a database and establish a connection to it"
   ]
  },
  {
   "cell_type": "code",
   "execution_count": null,
   "id": "9a966c53",
   "metadata": {},
   "outputs": [],
   "source": [
    "conn = sqlite3.connect('inovative_flowers') \n",
    "c = conn.cursor()"
   ]
  },
  {
   "cell_type": "markdown",
   "id": "746de56a",
   "metadata": {},
   "source": [
    "Creating the Scheme according to the ERD"
   ]
  },
  {
   "cell_type": "code",
   "execution_count": null,
   "id": "1555b64c",
   "metadata": {
    "scrolled": true
   },
   "outputs": [],
   "source": [
    "c.execute('''\n",
    "    CREATE TABLE IF NOT EXISTS Drones (\n",
    "        DroneID INTEGER PRIMARY KEY,\n",
    "        Manufacturer TEXT,\n",
    "        Model TEXT,\n",
    "        PayloadCapacity REAL,\n",
    "        AlgoUses INTEGER\n",
    "    )\n",
    "''')"
   ]
  },
  {
   "cell_type": "code",
   "execution_count": null,
   "id": "a90e6a87",
   "metadata": {},
   "outputs": [],
   "source": [
    "c.execute('''\n",
    "    CREATE TABLE IF NOT EXISTS Algorithms (\n",
    "        AlgoName TEXT PRIMARY KEY,\n",
    "        License TEXT,\n",
    "        NeedInternet INTEGER,\n",
    "        BasedGPS INTEGER\n",
    "    )\n",
    "''')"
   ]
  },
  {
   "cell_type": "code",
   "execution_count": null,
   "id": "a0b3e504",
   "metadata": {},
   "outputs": [],
   "source": [
    "c.execute('''\n",
    "    CREATE TABLE IF NOT EXISTS Customers (\n",
    "        ID INTEGER PRIMARY KEY,\n",
    "        FullName TEXT,\n",
    "        Gender TEXT,\n",
    "        Address TEXT,\n",
    "        DateOfBirth TEXT,\n",
    "        PartnerID INTEGER,\n",
    "        GiftCardEligible INTEGER\n",
    "    )\n",
    "''')"
   ]
  },
  {
   "cell_type": "code",
   "execution_count": null,
   "id": "aa749525",
   "metadata": {},
   "outputs": [],
   "source": [
    "c.execute('''\n",
    "    CREATE TABLE IF NOT EXISTS Products (\n",
    "        CatalogNumber INTEGER PRIMARY KEY,\n",
    "        Type TEXT,\n",
    "        Price REAL,\n",
    "        Weight REAL,\n",
    "        Height REAL\n",
    "    )\n",
    "''')"
   ]
  },
  {
   "cell_type": "code",
   "execution_count": null,
   "id": "0c235b1d",
   "metadata": {},
   "outputs": [],
   "source": [
    "c.execute('''\n",
    "    CREATE TABLE IF NOT EXISTS Foods (\n",
    "        CatalogNumber INTEGER PRIMARY KEY,\n",
    "        Name TEXT\n",
    "        Calories REAL,\n",
    "        Vegan INTEGER,\n",
    "        Kosher INTEGER,\n",
    "        FOREIGN KEY (CatalogNumber) REFERENCES Products(CatalogNumber)\n",
    "\n",
    "    )\n",
    "''')"
   ]
  },
  {
   "cell_type": "code",
   "execution_count": null,
   "id": "c6674332",
   "metadata": {},
   "outputs": [],
   "source": [
    "c.execute('''\n",
    "    CREATE TABLE IF NOT EXISTS Flowers (\n",
    "        CatalogNumber INTEGER PRIMARY KEY,\n",
    "        Name TEXT,\n",
    "        Color TEXT,\n",
    "        LightNeed TEXT,\n",
    "        WaterNeed TEXT,\n",
    "        FOREIGN KEY (CatalogNumber) REFERENCES Products(CatalogNumber)\n",
    "\n",
    "    )\n",
    "''')"
   ]
  },
  {
   "cell_type": "code",
   "execution_count": null,
   "id": "88e75adb",
   "metadata": {},
   "outputs": [],
   "source": [
    "c.execute('''\n",
    "    CREATE TABLE IF NOT EXISTS \"Orders\" (\n",
    "        CustomerID INTEGER,\n",
    "        TimeDate TEXT,\n",
    "        CatalogNumber INTEGER,\n",
    "        DroneID INTEGER,\n",
    "        Quantity INTEGER,\n",
    "        TotalPrice REAL,\n",
    "        PRIMARY KEY (CatalogNumber, CustomerID, TimeDate),\n",
    "        FOREIGN KEY (CustomerID) REFERENCES Customers(ID),\n",
    "        FOREIGN KEY (CatalogNumber) REFERENCES Products(CatalogNumber),\n",
    "        FOREIGN KEY (DroneID) REFERENCES Drones(DroneID)\n",
    "    )\n",
    "''')"
   ]
  },
  {
   "cell_type": "code",
   "execution_count": null,
   "id": "5f28397e",
   "metadata": {},
   "outputs": [],
   "source": [
    "c.execute('''\n",
    "    CREATE TABLE IF NOT EXISTS FoodBusinesses (\n",
    "        BusinessName TEXT PRIMARY KEY,\n",
    "        Address TEXT,\n",
    "        Phone TEXT\n",
    "    )\n",
    "''')"
   ]
  },
  {
   "cell_type": "code",
   "execution_count": null,
   "id": "70c8c90c",
   "metadata": {},
   "outputs": [],
   "source": [
    "conn.commit()"
   ]
  },
  {
   "cell_type": "markdown",
   "id": "007da488",
   "metadata": {},
   "source": [
    "Fullfill the scheme with data"
   ]
  },
  {
   "cell_type": "code",
   "execution_count": null,
   "id": "446a78c2",
   "metadata": {},
   "outputs": [],
   "source": [
    "conn = sqlite3.connect('inovative_flowers') \n",
    "c = conn.cursor()"
   ]
  },
  {
   "cell_type": "code",
   "execution_count": null,
   "id": "d4aac108",
   "metadata": {},
   "outputs": [],
   "source": [
    "c.execute('''\n",
    "    INSERT INTO Drones (DroneID, Manufacturer, Model, PayloadCapacity, AlgoUses)\n",
    "    VALUES\n",
    "        (1, 'DJI', 'Mavic Air 2', 2.49, 'NavFree'),\n",
    "        (2, 'DJI', 'Mavic Air 2', 2.49, 'NavGar'),\n",
    "        (3, 'DJI', 'Mavic Air 2', 2.49, 'NavFree'),\n",
    "        (4, 'DJI', 'Mavic Mini', 0.25, 'NavGar'),\n",
    "        (5, 'DJI', 'Mavic Mini', 0.25, 'NavGar'),\n",
    "        (6, 'Parrot', 'Anafi', 0.31, 'NavFree'),\n",
    "        (7, 'Parrot', 'Anafi', 0.31, 'NavGar'),\n",
    "        (8, 'Parrot', 'Anafi', 0.31, 'NavFree'),\n",
    "        (9, 'Parrot', 'Bebop 2', 0.5, 'NavGar'),\n",
    "        (10, 'Parrot', 'Bebop 2', 0.5, 'NavGar')\n",
    "''')"
   ]
  },
  {
   "cell_type": "code",
   "execution_count": null,
   "id": "92924366",
   "metadata": {},
   "outputs": [],
   "source": [
    "c.execute('''\n",
    "    INSERT INTO Algorithms (AlgoName, License, NeedInternet, BasedGPS)\n",
    "    VALUES\n",
    "        ('NavFree', 'Free', 1, 0),\n",
    "        ('NavGar', 'Garmin', 0, 1)\n",
    "''')"
   ]
  },
  {
   "cell_type": "code",
   "execution_count": null,
   "id": "4ac2ff59",
   "metadata": {},
   "outputs": [],
   "source": [
    "n = 63\n",
    "\n",
    "def generate_unique_ids(n):\n",
    "    ids = set()\n",
    "    while len(ids) < n:\n",
    "        # Generate a random ID number\n",
    "        id_number = random.randint(100000000, 999999999)\n",
    "        ids.add(id_number)\n",
    "    return list(ids)\n",
    "\n",
    "distinct_ids = generate_unique_ids(n)\n",
    "\n",
    "def generate_random_full_name():\n",
    "    first_name = random.choice(first_names)\n",
    "    last_name = random.choice(last_names)\n",
    "    full_name = f\"{first_name} {last_name}\"\n",
    "    return full_name\n",
    "\n",
    "def generate_address():\n",
    "    street = random.choice(street_names)\n",
    "    number = random.choice(list(range(1, 50)))\n",
    "    return f\"Tel-Aviv, {street}, {number}\"\n",
    "\n",
    "for i in range(1, n):\n",
    "    ID = distinct_ids.pop()\n",
    "    full_name = generate_random_full_name()\n",
    "    gender = random.choice(['Male', 'Female'])\n",
    "    address = generate_address()\n",
    "    date_of_birth = f'{random.randint(1950, 2008)}-{random.randint(1, 12):02d}-{random.randint(1, 28):02d}'\n",
    "    partner_id = \"NULL\"\n",
    "    gift_card_eligible = \"0\"\n",
    "    \n",
    "    c.execute('''\n",
    "        INSERT INTO Customers (ID, FullName, Gender, Address, DateOfBirth, PartnerID, GiftCardEligible)\n",
    "        VALUES (?, ?, ?, ?, ?, ?, ?)\n",
    "    ''', (ID, full_name, gender, address, date_of_birth, partner_id, gift_card_eligible))"
   ]
  },
  {
   "cell_type": "code",
   "execution_count": null,
   "id": "cde30a14",
   "metadata": {},
   "outputs": [],
   "source": [
    "c.execute('''\n",
    "    INSERT INTO Products (CatalogNumber, Type)\n",
    "    VALUES\n",
    "        ('FO001', 'Food', 10.99, 0.3),\n",
    "        ('FO002', 'Food', 8.99, 0.25),\n",
    "        ('FO003', 'Food', 7.49, 0.4),\n",
    "        ('FL001', 'Flower', 11.99, 0.32),\n",
    "        ('FL002', 'Flower', 5.99, 0.3),\n",
    "        ('FL003', 'Flower', 7.99, 0.27),\n",
    "        ('FL004', 'Flower', 12.99, 0.38),\n",
    "        ('FL005', 'Flower', 9.49, 0.33)\n",
    "''')"
   ]
  },
  {
   "cell_type": "code",
   "execution_count": null,
   "id": "4098f3c9",
   "metadata": {},
   "outputs": [],
   "source": [
    "c.execute('''\n",
    "    INSERT INTO Foods (CatalogNumber, Name, Calories, Vegan, Kosher)\n",
    "    VALUES\n",
    "        ('FO001', 'Hamburger', 1000, 0, 1),\n",
    "        ('FO002', 'Pizza', 600, 1, 0),\n",
    "        ('FO003', 'Salad', 200, 1, 1)\n",
    "\n",
    "''')"
   ]
  },
  {
   "cell_type": "code",
   "execution_count": null,
   "id": "2f540111",
   "metadata": {},
   "outputs": [],
   "source": []
  },
  {
   "cell_type": "code",
   "execution_count": null,
   "id": "7b6c305f",
   "metadata": {},
   "outputs": [],
   "source": []
  },
  {
   "cell_type": "code",
   "execution_count": null,
   "id": "5fa255ef",
   "metadata": {},
   "outputs": [],
   "source": []
  },
  {
   "cell_type": "code",
   "execution_count": null,
   "id": "24b33f99",
   "metadata": {},
   "outputs": [],
   "source": [
    "conn.commit()"
   ]
  },
  {
   "cell_type": "code",
   "execution_count": null,
   "id": "ff71ec13",
   "metadata": {},
   "outputs": [],
   "source": []
  },
  {
   "cell_type": "code",
   "execution_count": null,
   "id": "8bfcdce5",
   "metadata": {},
   "outputs": [],
   "source": [
    "c.execute('''\n",
    "SELECT *\n",
    "FROM Customers\n",
    "''')\n",
    "pd.DataFrame(c.fetchall())"
   ]
  },
  {
   "cell_type": "code",
   "execution_count": null,
   "id": "8fc9e200",
   "metadata": {},
   "outputs": [],
   "source": [
    "delete_all_records(\"Drones\")\n",
    "show_all_tables('inovative_flowers')"
   ]
  },
  {
   "cell_type": "code",
   "execution_count": null,
   "id": "cbcfb81f",
   "metadata": {},
   "outputs": [],
   "source": [
    "\n",
    "conn = sqlite3.connect('your_database.db')\n",
    "c = conn.cursor()\n",
    "\n",
    "c.execute('DELETE FROM Drones;')\n",
    "\n",
    "conn.commit()\n",
    "conn.close()\n",
    "\n",
    "\n"
   ]
  },
  {
   "cell_type": "markdown",
   "id": "a22c4217",
   "metadata": {},
   "source": [
    "## Exploring the Data"
   ]
  },
  {
   "cell_type": "markdown",
   "id": "11ab1199",
   "metadata": {},
   "source": [
    "Let's have a look on the following queries"
   ]
  },
  {
   "cell_type": "code",
   "execution_count": null,
   "id": "b1b63a49",
   "metadata": {},
   "outputs": [],
   "source": [
    "conn = sqlite3.connect('w3school_database') \n",
    "c = conn.cursor()"
   ]
  },
  {
   "cell_type": "code",
   "execution_count": null,
   "id": "9f0dd0ff",
   "metadata": {},
   "outputs": [],
   "source": [
    "# YOUR QUERY\n",
    "c.execute('''\n",
    "SELECT ProductId, ProductName\n",
    "FROM products\n",
    "WHERE ProductName LIKE \"%Alice%\"\n",
    "\n",
    "\n",
    "\n",
    "\n",
    "          ''')\n",
    "\n",
    "df = pd.DataFrame(c.fetchall(), columns=['ProductID', 'ProductName'])\n",
    "df.head()"
   ]
  },
  {
   "cell_type": "code",
   "execution_count": null,
   "id": "13aa5b17",
   "metadata": {},
   "outputs": [],
   "source": [
    "conn.commit()"
   ]
  },
  {
   "cell_type": "markdown",
   "id": "79b626cd",
   "metadata": {},
   "source": [
    "**Some discussion**"
   ]
  },
  {
   "cell_type": "code",
   "execution_count": null,
   "id": "6be38098",
   "metadata": {},
   "outputs": [],
   "source": []
  }
 ],
 "metadata": {
  "kernelspec": {
   "display_name": "Python 3 (ipykernel)",
   "language": "python",
   "name": "python3"
  },
  "language_info": {
   "codemirror_mode": {
    "name": "ipython",
    "version": 3
   },
   "file_extension": ".py",
   "mimetype": "text/x-python",
   "name": "python",
   "nbconvert_exporter": "python",
   "pygments_lexer": "ipython3",
   "version": "3.10.9"
  }
 },
 "nbformat": 4,
 "nbformat_minor": 5
}
